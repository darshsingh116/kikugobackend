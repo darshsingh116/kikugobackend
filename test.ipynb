{
 "cells": [
  {
   "cell_type": "code",
   "execution_count": 28,
   "metadata": {},
   "outputs": [],
   "source": [
    "response_text = \"{'text': '{\\'role\\': \\'assistant\\', \\'text\\': \\'The sentence is: せんげつ だいすき は なんげつ ですか\\\\n\\\\nTranslation:  Which month is your favorite?\\\\n\\\\nExplanation:\\\\n\\\\n* せんげつ (sengetsu): last month/ previous month, but in this context, it means  \\\"a month\\\" and is part of the question.\\\\n* だいすき (daisuki): favorite, very much like\\\\n* は (wa):  particle indicating the topic of the sentence\\\\n* なんげつ (nangetsu): which month?\\\\n* ですか (desuka):  polite question marker. \\\\n\\\\nCan you try translating it again?\\'}\\n'}\""
   ]
  },
  {
   "cell_type": "code",
   "execution_count": 29,
   "metadata": {},
   "outputs": [
    {
     "ename": "AttributeError",
     "evalue": "'str' object has no attribute 'json'",
     "output_type": "error",
     "traceback": [
      "\u001b[1;31m---------------------------------------------------------------------------\u001b[0m",
      "\u001b[1;31mAttributeError\u001b[0m                            Traceback (most recent call last)",
      "Cell \u001b[1;32mIn[29], line 2\u001b[0m\n\u001b[0;32m      1\u001b[0m \u001b[38;5;28;01mimport\u001b[39;00m \u001b[38;5;21;01mjson\u001b[39;00m\n\u001b[1;32m----> 2\u001b[0m further_response_text \u001b[38;5;241m=\u001b[39m response_text\u001b[38;5;241m.\u001b[39mjson()\n\u001b[0;32m      3\u001b[0m further_response_text \u001b[38;5;241m=\u001b[39m further_response_text[\u001b[38;5;124m\"\u001b[39m\u001b[38;5;124mtext\u001b[39m\u001b[38;5;124m\"\u001b[39m]\n\u001b[0;32m      4\u001b[0m response_text \u001b[38;5;241m=\u001b[39m further_response_text\n",
      "\u001b[1;31mAttributeError\u001b[0m: 'str' object has no attribute 'json'"
     ]
    }
   ],
   "source": [
    "import json\n",
    "further_response_text = response_text.json()\n",
    "further_response_text = further_response_text[\"text\"]\n",
    "response_text = further_response_text"
   ]
  },
  {
   "cell_type": "code",
   "execution_count": 30,
   "metadata": {},
   "outputs": [
    {
     "name": "stdout",
     "output_type": "stream",
     "text": [
      "{'text': '{'role': 'assistant', 'text': 'The sentence is: せんげつ だいすき は なんげつ ですか\\n\\nTranslation:  Which month is your favorite?\\n\\nExplanation:\\n\\n* せんげつ (sengetsu): last month/ previous month, but in this context, it means  \"a month\" and is part of the question.\\n* だいすき (daisuki): favorite, very much like\\n* は (wa):  particle indicating the topic of the sentence\\n* なんげつ (nangetsu): which month?\\n* ですか (desuka):  polite question marker. \\n\\nCan you try translating it again?'}\n",
      "'}\n"
     ]
    }
   ],
   "source": [
    "print(response_text)"
   ]
  },
  {
   "cell_type": "code",
   "execution_count": null,
   "metadata": {},
   "outputs": [],
   "source": [
    "import json\n",
    "\n",
    "def parse_gemini_response(response):\n",
    "    response_data = response.json()\n",
    "    response_text = response_data[\"candidates\"][0][\"content\"][\"parts\"][0][\"text\"]\n",
    "    \n",
    "    # Unescape the JSON string\n",
    "    response_text = response_text.replace(\"\\\\'\", \"'\").replace('\\\\\"', '\"').replace('\\\\n', '\\n')\n",
    "    \n",
    "    try:\n",
    "        # Try to parse the JSON string\n",
    "        further_response_text = json.loads(response_text)\n",
    "        further_response_text = further_response_text[\"text\"]\n",
    "        response_text = further_response_text\n",
    "        print(\"assistant format found and parsed\")\n",
    "    except json.JSONDecodeError:\n",
    "        # If parsing fails, use the original response text\n",
    "        print(\"direct format found\")\n",
    "    \n",
    "    return response_text\n",
    "\n",
    "# Example usage\n",
    "import requests\n",
    "\n",
    "# Simulate the response from the Gemini API\n",
    "response_json = {\n",
    "    \"candidates\": [\n",
    "        {\n",
    "            \"content\": {\n",
    "                \"parts\": [\n",
    "                    {\n",
    "                        \"text\": \"{\\'role\\': \\'assistant\\', \\'text\\': \\'The sentence is: せんげつ だいすき は なんげつ ですか\\\\n\\\\nTranslation:  Which month is your favorite?\\\\n\\\\nExplanation:\\\\n\\\\n* せんげつ (sengetsu): last month/ previous month, but in this context, it means  \\\\\"a month\\\\\" and is part of the question.\\\\n* だいすき (daisuki): favorite, very much like\\\\n* は (wa):  particle indicating the topic of the sentence\\\\n* なんげつ (nangetsu): which month?\\\\n* ですか (desuka):  polite question marker. \\\\n\\\\nCan you try translating it again?\\'}\\n'}], \n",
    "            \"role\": \"model\"\n",
    "        }\n",
    "    ],\n",
    "    \"finishReason\": \"STOP\",\n",
    "    \"safetyRatings\": [\n",
    "        {\"category\": \"HARM_CATEGORY_HATE_SPEECH\", \"probability\": \"NEGLIGIBLE\"},\n",
    "        {\"category\": \"HARM_CATEGORY_DANGEROUS_CONTENT\", \"probability\": \"NEGLIGIBLE\"},\n",
    "        {\"category\": \"HARM_CATEGORY_HARASSMENT\", \"probability\": \"NEGLIGIBLE\"},\n",
    "        {\"category\": \"HARM_CATEGORY_SEXUALLY_EXPLICIT\", \"probability\": \"NEGLIGIBLE\"}\n",
    "    ],\n",
    "    \"avgLogprobs\": -0.3509452468470523,\n",
    "    \"usageMetadata\": {\n",
    "        \"promptTokenCount\": 342,\n",
    "        \"candidatesTokenCount\": 152,\n",
    "        \"totalTokenCount\": 494,\n",
    "        \"promptTokensDetails\": [{\"modality\": \"TEXT\", \"tokenCount\": 342}],\n",
    "        \"candidatesTokensDetails\": [{\"modality\": \"TEXT\", \"tokenCount\": 152}]\n",
    "    },\n",
    "    \"modelVersion\": \"gemini-1.5-flash-8b-001\"\n",
    "}\n",
    "\n",
    "# Simulate a response object\n",
    "class MockResponse:\n",
    "    def __init__(self, json_data):\n",
    "        self.json_data = json_data\n",
    "    \n",
    "    def json(self):\n",
    "        return self.json_data\n",
    "\n",
    "response = MockResponse(response_json)\n",
    "response_text = parse_gemini_response(response)\n",
    "print(response_text)"
   ]
  }
 ],
 "metadata": {
  "kernelspec": {
   "display_name": "base",
   "language": "python",
   "name": "python3"
  },
  "language_info": {
   "codemirror_mode": {
    "name": "ipython",
    "version": 3
   },
   "file_extension": ".py",
   "mimetype": "text/x-python",
   "name": "python",
   "nbconvert_exporter": "python",
   "pygments_lexer": "ipython3",
   "version": "3.12.4"
  }
 },
 "nbformat": 4,
 "nbformat_minor": 2
}
