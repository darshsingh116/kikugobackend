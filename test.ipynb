{
 "cells": [
  {
   "cell_type": "code",
   "execution_count": 28,
   "metadata": {},
   "outputs": [],
   "source": [
    "response_text = \"{'text': '{\\'role\\': \\'assistant\\', \\'text\\': \\'The sentence is: せんげつ だいすき は なんげつ ですか\\\\n\\\\nTranslation:  Which month is your favorite?\\\\n\\\\nExplanation:\\\\n\\\\n* せんげつ (sengetsu): last month/ previous month, but in this context, it means  \\\"a month\\\" and is part of the question.\\\\n* だいすき (daisuki): favorite, very much like\\\\n* は (wa):  particle indicating the topic of the sentence\\\\n* なんげつ (nangetsu): which month?\\\\n* ですか (desuka):  polite question marker. \\\\n\\\\nCan you try translating it again?\\'}\\n'}\""
   ]
  },
  {
   "cell_type": "code",
   "execution_count": 29,
   "metadata": {},
   "outputs": [
    {
     "ename": "AttributeError",
     "evalue": "'str' object has no attribute 'json'",
     "output_type": "error",
     "traceback": [
      "\u001b[1;31m---------------------------------------------------------------------------\u001b[0m",
      "\u001b[1;31mAttributeError\u001b[0m                            Traceback (most recent call last)",
      "Cell \u001b[1;32mIn[29], line 2\u001b[0m\n\u001b[0;32m      1\u001b[0m \u001b[38;5;28;01mimport\u001b[39;00m \u001b[38;5;21;01mjson\u001b[39;00m\n\u001b[1;32m----> 2\u001b[0m further_response_text \u001b[38;5;241m=\u001b[39m response_text\u001b[38;5;241m.\u001b[39mjson()\n\u001b[0;32m      3\u001b[0m further_response_text \u001b[38;5;241m=\u001b[39m further_response_text[\u001b[38;5;124m\"\u001b[39m\u001b[38;5;124mtext\u001b[39m\u001b[38;5;124m\"\u001b[39m]\n\u001b[0;32m      4\u001b[0m response_text \u001b[38;5;241m=\u001b[39m further_response_text\n",
      "\u001b[1;31mAttributeError\u001b[0m: 'str' object has no attribute 'json'"
     ]
    }
   ],
   "source": [
    "import json\n",
    "further_response_text = response_text.json()\n",
    "further_response_text = further_response_text[\"text\"]\n",
    "response_text = further_response_text"
   ]
  },
  {
   "cell_type": "code",
   "execution_count": 30,
   "metadata": {},
   "outputs": [
    {
     "name": "stdout",
     "output_type": "stream",
     "text": [
      "{'text': '{'role': 'assistant', 'text': 'The sentence is: せんげつ だいすき は なんげつ ですか\\n\\nTranslation:  Which month is your favorite?\\n\\nExplanation:\\n\\n* せんげつ (sengetsu): last month/ previous month, but in this context, it means  \"a month\" and is part of the question.\\n* だいすき (daisuki): favorite, very much like\\n* は (wa):  particle indicating the topic of the sentence\\n* なんげつ (nangetsu): which month?\\n* ですか (desuka):  polite question marker. \\n\\nCan you try translating it again?'}\n",
      "'}\n"
     ]
    }
   ],
   "source": [
    "print(response_text)"
   ]
  },
  {
   "cell_type": "code",
   "execution_count": null,
   "metadata": {},
   "outputs": [],
   "source": [
    "import json\n",
    "\n",
    "def parse_gemini_response(response):\n",
    "    response_data = response.json()\n",
    "    response_text = response_data[\"candidates\"][0][\"content\"][\"parts\"][0][\"text\"]\n",
    "    \n",
    "    # Unescape the JSON string\n",
    "    response_text = response_text.replace(\"\\\\'\", \"'\").replace('\\\\\"', '\"').replace('\\\\n', '\\n')\n",
    "    \n",
    "    try:\n",
    "        # Try to parse the JSON string\n",
    "        further_response_text = json.loads(response_text)\n",
    "        further_response_text = further_response_text[\"text\"]\n",
    "        response_text = further_response_text\n",
    "        print(\"assistant format found and parsed\")\n",
    "    except json.JSONDecodeError:\n",
    "        # If parsing fails, use the original response text\n",
    "        print(\"direct format found\")\n",
    "    \n",
    "    return response_text\n",
    "\n",
    "# Example usage\n",
    "import requests\n",
    "\n",
    "# Simulate the response from the Gemini API\n",
    "response_json = {\n",
    "    \"candidates\": [\n",
    "        {\n",
    "            \"content\": {\n",
    "                \"parts\": [\n",
    "                    {\n",
    "                        \"text\": \"{\\'role\\': \\'assistant\\', \\'text\\': \\'The sentence is: せんげつ だいすき は なんげつ ですか\\\\n\\\\nTranslation:  Which month is your favorite?\\\\n\\\\nExplanation:\\\\n\\\\n* せんげつ (sengetsu): last month/ previous month, but in this context, it means  \\\\\"a month\\\\\" and is part of the question.\\\\n* だいすき (daisuki): favorite, very much like\\\\n* は (wa):  particle indicating the topic of the sentence\\\\n* なんげつ (nangetsu): which month?\\\\n* ですか (desuka):  polite question marker. \\\\n\\\\nCan you try translating it again?\\'}\\n'}], \n",
    "            \"role\": \"model\"\n",
    "        }\n",
    "    ],\n",
    "    \"finishReason\": \"STOP\",\n",
    "    \"safetyRatings\": [\n",
    "        {\"category\": \"HARM_CATEGORY_HATE_SPEECH\", \"probability\": \"NEGLIGIBLE\"},\n",
    "        {\"category\": \"HARM_CATEGORY_DANGEROUS_CONTENT\", \"probability\": \"NEGLIGIBLE\"},\n",
    "        {\"category\": \"HARM_CATEGORY_HARASSMENT\", \"probability\": \"NEGLIGIBLE\"},\n",
    "        {\"category\": \"HARM_CATEGORY_SEXUALLY_EXPLICIT\", \"probability\": \"NEGLIGIBLE\"}\n",
    "    ],\n",
    "    \"avgLogprobs\": -0.3509452468470523,\n",
    "    \"usageMetadata\": {\n",
    "        \"promptTokenCount\": 342,\n",
    "        \"candidatesTokenCount\": 152,\n",
    "        \"totalTokenCount\": 494,\n",
    "        \"promptTokensDetails\": [{\"modality\": \"TEXT\", \"tokenCount\": 342}],\n",
    "        \"candidatesTokensDetails\": [{\"modality\": \"TEXT\", \"tokenCount\": 152}]\n",
    "    },\n",
    "    \"modelVersion\": \"gemini-1.5-flash-8b-001\"\n",
    "}\n",
    "\n",
    "# Simulate a response object\n",
    "class MockResponse:\n",
    "    def __init__(self, json_data):\n",
    "        self.json_data = json_data\n",
    "    \n",
    "    def json(self):\n",
    "        return self.json_data\n",
    "\n",
    "response = MockResponse(response_json)\n",
    "response_text = parse_gemini_response(response)\n",
    "print(response_text)"
   ]
  },
  {
   "cell_type": "code",
   "execution_count": 7,
   "metadata": {},
   "outputs": [
    {
     "name": "stdout",
     "output_type": "stream",
     "text": [
      "{\"status\":\"0\"}\n"
     ]
    }
   ],
   "source": [
    "import requests\n",
    "\n",
    "url = \"https://cs2points.com/json/giveaway_entry.php\"\n",
    "\n",
    "headers = {\n",
    "    \"authority\": \"cs2points.com\",\n",
    "    \"method\": \"POST\",\n",
    "    \"path\": \"/json/giveaway_entry.php\",\n",
    "    \"scheme\": \"https\",\n",
    "    \"accept\": \"application/json, text/javascript, */*; q=0.01\",\n",
    "    \"accept-encoding\": \"gzip, deflate, br, zstd\",\n",
    "    \"accept-language\": \"en-US,en;q=0.9\",\n",
    "    \"content-type\": \"application/x-www-form-urlencoded; charset=UTF-8\",\n",
    "    \"origin\": \"https://cs2points.com\",\n",
    "    \"priority\": \"u=1, i\",\n",
    "    \"referer\": \"https://cs2points.com/giveaway.html\",\n",
    "    \"sec-ch-ua\": '\"Not A(Brand\";v=\"8\", \"Chromium\";v=\"132\", \"Google Chrome\";v=\"132\"',\n",
    "    \"sec-ch-ua-arch\": '\"x86\"',\n",
    "    \"sec-ch-ua-bitness\": '\"64\"',\n",
    "    \"sec-ch-ua-full-version\": '\"132.0.6834.196\"',\n",
    "    \"sec-ch-ua-full-version-list\": '\"Not A(Brand\";v=\"8.0.0.0\", \"Chromium\";v=\"132.0.6834.196\", \"Google Chrome\";v=\"132.0.6834.196\"',\n",
    "    \"sec-ch-ua-mobile\": \"?0\",\n",
    "    \"sec-ch-ua-model\": '\"\"',\n",
    "    \"sec-ch-ua-platform\": '\"Windows\"',\n",
    "    \"sec-ch-ua-platform-version\": '\"10.0.0\"',\n",
    "    \"sec-fetch-dest\": \"empty\",\n",
    "    \"sec-fetch-mode\": \"cors\",\n",
    "    \"sec-fetch-site\": \"same-origin\",\n",
    "    \"user-agent\": \"Mozilla/5.0 (Windows NT 10.0; Win64; x64) AppleWebKit/537.36 (KHTML, like Gecko) Chrome/132.0.0.0 Safari/537.36\",\n",
    "    \"x-requested-with\": \"XMLHttpRequest\",\n",
    "}\n",
    "\n",
    "cookies = {\n",
    "    \"cf_clearance\": \"HSDoRC9lpyNa0hGpLHiJh92wfdZ8smkTkGrfot3VXNY-1738990587-1.2.1.1-XTcDJioEXMbImYJ_x0WU8yRLNxjnH1J6ATJuR7kGQiA.dUFG_P4qGBoGaH_XXoQ7OP5Bw0PWBUEsWUbuA8jFByR6y7On98r1oVrCL9GPaz_xyLoVQkkVDHs9tMUXAuuvupFftvmXHvNYze1eElngmYkDul_U7nx1.VeaRFlTR1b5r8Lv9oz0awe1Hz5_clV7ya_qaJwjUtWBaU2cjE3EhFRcQoy1fbLTVxZ0JvwkcfEF8cZ1ec_z_PUJzTqohzKJyPORlu.okyP.qJOJRKwEk3_5OeN5EWn7Zc94CAxiOxaAuo6gRxY8qModTN3cyX.1X9XgIWAkjHEoyVpXbUfBgA\",\n",
    "    \"steamid64\": \"76561198978195655\",\n",
    "    \"token\": \"MWE4YWJkMGM1M2ZhZWVhNTIyYzFjNGQ2ZDM5MmQ1Yjk3ZDQyZGYxNmMxZTcwMWM1NjdmZGZkNmNjZWJlMWE3YzQ1ZWU3Zg==\",\n",
    "    \"PHPSESSID\": \"jf4afb3li5c58e5ip6qkq66gd3\",\n",
    "}\n",
    "\n",
    "data = {\n",
    "    \"action\": \"telegram_share\"\n",
    "}\n",
    "\n",
    "response = requests.post(url, headers=headers, cookies=cookies, data=data)\n",
    "\n",
    "print(response.text)\n"
   ]
  },
  {
   "cell_type": "code",
   "execution_count": null,
   "metadata": {},
   "outputs": [],
   "source": []
  },
  {
   "cell_type": "code",
   "execution_count": null,
   "metadata": {},
   "outputs": [],
   "source": []
  }
 ],
 "metadata": {
  "kernelspec": {
   "display_name": "base",
   "language": "python",
   "name": "python3"
  },
  "language_info": {
   "codemirror_mode": {
    "name": "ipython",
    "version": 3
   },
   "file_extension": ".py",
   "mimetype": "text/x-python",
   "name": "python",
   "nbconvert_exporter": "python",
   "pygments_lexer": "ipython3",
   "version": "3.12.4"
  }
 },
 "nbformat": 4,
 "nbformat_minor": 2
}
